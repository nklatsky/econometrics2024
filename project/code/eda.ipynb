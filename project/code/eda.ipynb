{
 "cells": [
  {
   "cell_type": "markdown",
   "metadata": {},
   "source": [
    "# Description of Data\n",
    "\n",
    "**y** - (T x n) matrix of returns over T periods for n assets\n",
    "**X** - (T x d) matric of d covariates over T periods"
   ]
  },
  {
   "cell_type": "markdown",
   "metadata": {},
   "source": [
    "# Models\n",
    "\n",
    "**Linear Regression**\n",
    "\n",
    "$\n",
    "y_t = \\beta'X_t + \\epsilon_t\n",
    "$\n",
    "\n",
    "$\n",
    "\\epsilon_t -- N({\\mu_{\\epsilon}}, {\\Sigma_{\\epsilon}})\n",
    "$\n",
    "\n",
    "$\n",
    "\\mu_{\\epsilon} -- N(\\underline{\\mu_{\\epsilon}}, \\underline{\\Sigma_{\\epsilon}})\n",
    "$ \n",
    "\n",
    "$ \n",
    "\\Sigma_{\\epsilon} -- Inverse Wishart(?)\n",
    "$"
   ]
  },
  {
   "cell_type": "code",
   "execution_count": null,
   "metadata": {},
   "outputs": [],
   "source": []
  }
 ],
 "metadata": {
  "kernelspec": {
   "display_name": "base",
   "language": "python",
   "name": "python3"
  },
  "language_info": {
   "name": "python",
   "version": "3.11.4"
  }
 },
 "nbformat": 4,
 "nbformat_minor": 2
}
