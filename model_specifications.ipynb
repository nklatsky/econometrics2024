{
 "cells": [
  {
   "cell_type": "markdown",
   "metadata": {},
   "source": [
    "# "
   ]
  },
  {
   "cell_type": "markdown",
   "metadata": {},
   "source": [
    "# Model Descriptions"
   ]
  },
  {
   "cell_type": "markdown",
   "metadata": {},
   "source": [
    "## Overview\n",
    "\n",
    "In this analysis, I compare the GARCH(1,1) model to the Stochastic Volatility (SV) model in order to forecast the variance of the return series. This is of interest given that while there is low autocorrelation in the return of financial time series, the volatility of returns has been observed to have persistent autocorrelation. Therefore I will seek to evaluate the goodness-of-fit of these two alternate approaches. \n",
    "\n",
    "Crucially, the GARCH model calculates the variance of returns deterministically, whereas the stochastic volatility model treats it as a random variable."
   ]
  },
  {
   "cell_type": "code",
   "execution_count": null,
   "metadata": {},
   "outputs": [],
   "source": []
  },
  {
   "cell_type": "markdown",
   "metadata": {},
   "source": [
    "# Stochastic Volatility (SV) Model\n",
    "\n",
    "**Model Specification**\n",
    "\n",
    "*De-Meaned Returns $y_t$:*\n",
    "\n",
    "$$\n",
    "y_t = e^{\\frac{h_t}{2}} \\cdot \\epsilon_t\n",
    "$$\n",
    "\n",
    "*Log-Volatility $h_t$:*\n",
    "$$ \n",
    "h_t = \\mu + \\phi(h_{t-1} - \\mu) + \\sigma \\cdot \\eta_t\n",
    "$$\n",
    "\n",
    "\n",
    "$\\epsilon_t$ and $\\eta_t$ are gaussian white noise:\n",
    "\n",
    "$$\n",
    "\\epsilon_t \\sim \\mathcal{N}(0,1)\n",
    "$$\n",
    "$$\n",
    "\\eta_t \\sim \\mathcal{N}(0,1)\n",
    "$$\n",
    "\n",
    "**Parameters**\n",
    "\n",
    "$\\phi \\in (-1, 1)$\n",
    "\n",
    "$ \\sigma > 0 $\n",
    "\n",
    "\n",
    "**Priors**\n",
    "\n",
    "$\\mathcal{P}(\\mu) \\sim \\mathcal{N}(-0.5, 1)$\n",
    "\n",
    "$\\mathcal{P}(\\phi) \\sim \\mathcal{N}(0.75, 0.1^2) \\cdot \\mathbb{1}_{[-1, 1]}$ \n",
    "\n",
    "$\\mathcal{P}(\\sigma) \\sim IG(2, 0.5)$\n",
    "\n",
    "\n"
   ]
  },
  {
   "cell_type": "code",
   "execution_count": null,
   "metadata": {},
   "outputs": [],
   "source": []
  },
  {
   "cell_type": "markdown",
   "metadata": {},
   "source": [
    "# GARCH(1,1) Model \n",
    "\n",
    "**Model Specification**\n",
    "\n",
    "*De-Meaned Returns $y_t$:*\n",
    "\n",
    "$$\n",
    "y_t = \\epsilon_t\n",
    "$$\n",
    "\n",
    "*Conditional Variance Equation (GARCH(1,1)):*\n",
    "$$\n",
    "\\sigma_t^2 = \\mu + \\alpha_1 \\epsilon_{t-1}^2 + \\beta_1 \\sigma_{t-1}^2\n",
    "$$\n",
    "\n",
    "\n",
    "$\\epsilon_t$ is a gaussian error term:\n",
    "\n",
    "$$\n",
    "\\epsilon_t \\sim \\mathcal{N}(0,\\sigma_t^2)\n",
    "$$\n",
    "\n",
    "\n",
    "**Parameters:**\n",
    "- $\\mu > 0$ ensures non-negative variance.\n",
    "- $\\alpha_1, \\beta_1 \\geq 0$ and $\\alpha_1 + \\beta_1 < 1$ for stationarity.\n",
    "\n",
    "\n",
    "**Priors**\n",
    "\n",
    "$\\mu \\sim IG(1.5, 0.25)$\n",
    "\n",
    "$\\alpha_1 \\sim \\beta(2, 5)$ \n",
    "\n",
    "$\\beta_1 \\sim \\beta(5, 2)$\n",
    "\n",
    "\n",
    "\n",
    "\n"
   ]
  }
 ],
 "metadata": {
  "kernelspec": {
   "display_name": "base",
   "language": "python",
   "name": "python3"
  },
  "language_info": {
   "name": "python",
   "version": "3.11.9"
  }
 },
 "nbformat": 4,
 "nbformat_minor": 2
}
